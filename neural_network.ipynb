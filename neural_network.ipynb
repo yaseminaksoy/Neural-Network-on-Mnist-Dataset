{
 "cells": [
  {
   "cell_type": "code",
   "execution_count": 1,
   "metadata": {},
   "outputs": [],
   "source": [
    "from sklearn.model_selection import train_test_split\n",
    "from sklearn.neural_network import MLPClassifier\n",
    "import numpy as np\n",
    "import matplotlib.pyplot as plt\n",
    "import pandas as pd"
   ]
  },
  {
   "cell_type": "code",
   "execution_count": 2,
   "metadata": {},
   "outputs": [],
   "source": [
    "from sklearn.datasets import fetch_openml\n",
    "X, y = fetch_openml('mnist_784', version=1, return_X_y=True)\n",
    "X = X / 255"
   ]
  },
  {
   "cell_type": "code",
   "execution_count": 3,
   "metadata": {},
   "outputs": [
    {
     "name": "stdout",
     "output_type": "stream",
     "text": [
      "train_score:1.0\n",
      "test_score:0.9784\n"
     ]
    }
   ],
   "source": [
    "X_train, X_test, y_train, y_test = train_test_split(X, y, stratify=y, random_state=42)\n",
    "\n",
    "mlp = MLPClassifier().fit(X_train, y_train)\n",
    "print(\"train_score:{}\".format(mlp.score(X_train, y_train)))\n",
    "print(\"test_score:{}\".format(mlp.score(X_test, y_test)))"
   ]
  },
  {
   "cell_type": "code",
   "execution_count": 4,
   "metadata": {},
   "outputs": [
    {
     "name": "stderr",
     "output_type": "stream",
     "text": [
      "C:\\Users\\Asus\\anaconda3\\lib\\site-packages\\sklearn\\neural_network\\_multilayer_perceptron.py:471: ConvergenceWarning: lbfgs failed to converge (status=1):\n",
      "STOP: TOTAL NO. of ITERATIONS REACHED LIMIT.\n",
      "\n",
      "Increase the number of iterations (max_iter) or scale the data as shown in:\n",
      "    https://scikit-learn.org/stable/modules/preprocessing.html\n",
      "  self.n_iter_ = _check_optimize_result(\"lbfgs\", opt_res, self.max_iter)\n"
     ]
    },
    {
     "name": "stdout",
     "output_type": "stream",
     "text": [
      "activation function: logistic\n",
      "train_score:0.9613904761904762\n",
      "test_score:0.9329714285714286\n",
      "------------------\n"
     ]
    },
    {
     "name": "stderr",
     "output_type": "stream",
     "text": [
      "C:\\Users\\Asus\\anaconda3\\lib\\site-packages\\sklearn\\neural_network\\_multilayer_perceptron.py:471: ConvergenceWarning: lbfgs failed to converge (status=1):\n",
      "STOP: TOTAL NO. of ITERATIONS REACHED LIMIT.\n",
      "\n",
      "Increase the number of iterations (max_iter) or scale the data as shown in:\n",
      "    https://scikit-learn.org/stable/modules/preprocessing.html\n",
      "  self.n_iter_ = _check_optimize_result(\"lbfgs\", opt_res, self.max_iter)\n"
     ]
    },
    {
     "name": "stdout",
     "output_type": "stream",
     "text": [
      "activation function: tanh\n",
      "train_score:0.9623238095238095\n",
      "test_score:0.9303428571428571\n",
      "------------------\n"
     ]
    },
    {
     "name": "stderr",
     "output_type": "stream",
     "text": [
      "C:\\Users\\Asus\\anaconda3\\lib\\site-packages\\sklearn\\neural_network\\_multilayer_perceptron.py:471: ConvergenceWarning: lbfgs failed to converge (status=1):\n",
      "STOP: TOTAL NO. of ITERATIONS REACHED LIMIT.\n",
      "\n",
      "Increase the number of iterations (max_iter) or scale the data as shown in:\n",
      "    https://scikit-learn.org/stable/modules/preprocessing.html\n",
      "  self.n_iter_ = _check_optimize_result(\"lbfgs\", opt_res, self.max_iter)\n"
     ]
    },
    {
     "name": "stdout",
     "output_type": "stream",
     "text": [
      "activation function: relu\n",
      "train_score:0.9248571428571428\n",
      "test_score:0.9115428571428571\n",
      "------------------\n"
     ]
    }
   ],
   "source": [
    "#The effect of different choices of activation function\n",
    "\n",
    "for this_activation in ['logistic', 'tanh', 'relu']:\n",
    "    mlp = MLPClassifier(solver='lbfgs', activation = this_activation,\n",
    "                         alpha = 0.1, hidden_layer_sizes = [10, 10],\n",
    "                         random_state = 0).fit(X_train, y_train)\n",
    "    print(\"activation function:\", this_activation)\n",
    "    print(\"train_score:{}\".format(mlp.score(X_train, y_train)))\n",
    "    print(\"test_score:{}\".format(mlp.score(X_test, y_test)))\n",
    "    print(\"------------------\")\n",
    "    "
   ]
  },
  {
   "cell_type": "code",
   "execution_count": 5,
   "metadata": {},
   "outputs": [
    {
     "name": "stdout",
     "output_type": "stream",
     "text": [
      "the value of alpha: 0.01\n",
      "train_score:0.9615428571428571\n",
      "test_score:0.9305142857142857\n",
      "------------------\n",
      "the value of alpha: 0.1\n",
      "train_score:0.9608380952380953\n",
      "test_score:0.9308\n",
      "------------------\n",
      "the value of alpha: 1.0\n",
      "train_score:0.9612571428571428\n",
      "test_score:0.9308\n",
      "------------------\n",
      "the value of alpha: 5.0\n",
      "train_score:0.9618476190476191\n",
      "test_score:0.9334857142857143\n",
      "------------------\n"
     ]
    }
   ],
   "source": [
    "#Regularization parameter: alpha\n",
    "\n",
    "for this_alpha in [0.01, 0.1, 1.0, 5.0]:\n",
    "    mlp = MLPClassifier(solver='lbfgs', activation = 'tanh',\n",
    "                         alpha = this_alpha,\n",
    "                         hidden_layer_sizes = [10, 10],\n",
    "                         random_state = 0).fit(X_train, y_train)\n",
    "    print(\"the value of alpha:\",this_alpha)\n",
    "    print(\"train_score:{}\".format(mlp.score(X_train, y_train)))\n",
    "    print(\"test_score:{}\".format(mlp.score(X_test, y_test)))\n",
    "    print(\"------------------\")\n",
    "    "
   ]
  },
  {
   "cell_type": "code",
   "execution_count": 9,
   "metadata": {},
   "outputs": [
    {
     "name": "stdout",
     "output_type": "stream",
     "text": [
      "the number of hidden units: 1\n",
      "train_score:0.11253333333333333\n",
      "test_score:0.11251428571428572\n",
      "------------------\n",
      "the number of hidden units: 10\n",
      "train_score:0.9133523809523809\n",
      "test_score:0.9028571428571428\n",
      "------------------\n",
      "the number of hidden units: 50\n",
      "train_score:0.9999428571428571\n",
      "test_score:0.9668\n",
      "------------------\n",
      "the number of hidden units: 100\n",
      "train_score:1.0\n",
      "test_score:0.9749714285714286\n",
      "------------------\n"
     ]
    }
   ],
   "source": [
    "#the effect of numbers of hidden units\n",
    "for units in [1,10,50,100]:\n",
    "    mlp = MLPClassifier(solver='lbfgs', random_state=0, hidden_layer_sizes=[units])\n",
    "    mlp.fit(X_train, y_train)\n",
    "    print(\"the number of hidden units:\",units)\n",
    "    print(\"train_score:{}\".format(mlp.score(X_train, y_train)))\n",
    "    print(\"test_score:{}\".format(mlp.score(X_test, y_test)))\n",
    "    print(\"------------------\")\n"
   ]
  },
  {
   "cell_type": "code",
   "execution_count": 10,
   "metadata": {},
   "outputs": [
    {
     "name": "stdout",
     "output_type": "stream",
     "text": [
      "the number of hidden layers: [10]\n",
      "train_score:0.9133523809523809\n",
      "test_score:0.9028571428571428\n",
      "------------------\n",
      "the number of hidden layers: [10, 10]\n",
      "train_score:0.9231619047619047\n",
      "test_score:0.9114857142857142\n",
      "------------------\n",
      "the number of hidden layers: [10, 10, 10]\n",
      "train_score:0.9256190476190476\n",
      "test_score:0.9153714285714286\n",
      "------------------\n"
     ]
    }
   ],
   "source": [
    "#the effect of numbers of hidden layers\n",
    "for layer in [[10],[10,10],[10,10,10]]:\n",
    "    mlp = MLPClassifier(solver='lbfgs', random_state=0, hidden_layer_sizes=layer)\n",
    "    mlp.fit(X_train, y_train)\n",
    "    print(\"the number of hidden layers:\",layer)\n",
    "    print(\"train_score:{}\".format(mlp.score(X_train, y_train)))\n",
    "    print(\"test_score:{}\".format(mlp.score(X_test, y_test)))\n",
    "    print(\"------------------\")"
   ]
  },
  {
   "cell_type": "code",
   "execution_count": 6,
   "metadata": {},
   "outputs": [
    {
     "name": "stderr",
     "output_type": "stream",
     "text": [
      "C:\\Users\\yasem\\Anaconda3\\lib\\site-packages\\sklearn\\model_selection\\_split.py:1978: FutureWarning: The default value of cv will change from 3 to 5 in version 0.22. Specify it explicitly to silence this warning.\n",
      "  warnings.warn(CV_WARNING, FutureWarning)\n"
     ]
    },
    {
     "name": "stdout",
     "output_type": "stream",
     "text": [
      "Test set score: 0.97\n",
      "Best parameters: {'activation': 'logistic', 'alpha': 5.0, 'hidden_layer_sizes': [50, 50], 'random_state': 0, 'solver': 'lbfgs'}\n",
      "Best cross-validation score: 0.97\n",
      "Best estimator:\n",
      "MLPClassifier(activation='logistic', alpha=5.0, batch_size='auto', beta_1=0.9,\n",
      "              beta_2=0.999, early_stopping=False, epsilon=1e-08,\n",
      "              hidden_layer_sizes=[50, 50], learning_rate='constant',\n",
      "              learning_rate_init=0.001, max_iter=200, momentum=0.9,\n",
      "              n_iter_no_change=10, nesterovs_momentum=True, power_t=0.5,\n",
      "              random_state=0, shuffle=True, solver='lbfgs', tol=0.0001,\n",
      "              validation_fraction=0.1, verbose=False, warm_start=False)\n"
     ]
    }
   ],
   "source": [
    "#choosing the best parameters\n",
    "from sklearn.model_selection import GridSearchCV\n",
    "parameters = {'solver': ['lbfgs'], 'activation' : ['logistic', 'tanh', 'relu'],\n",
    "              'alpha': [0.01, 0.1, 1.0, 5.0],\n",
    "              'hidden_layer_sizes':[[1],[10],[50],[1,1],[10,10],[50,50],[1,1,1],[10,10,10],[50],[50],[50]],\n",
    "              'random_state':[0]} \n",
    "clf_grid = GridSearchCV(MLPClassifier(), parameters, n_jobs=-1)\n",
    "\n",
    "clf_grid.fit(X_train, y_train)\n",
    "print(\"Test set score: {:.2f}\".format(clf_grid.score(X_test, y_test)))\n",
    "print(\"Best parameters: {}\".format(clf_grid.best_params_))\n",
    "print(\"Best cross-validation score: {:.2f}\".format(clf_grid.best_score_))\n",
    "print(\"Best estimator:\\n{}\".format(clf_grid.best_estimator_))"
   ]
  },
  {
   "cell_type": "code",
   "execution_count": null,
   "metadata": {},
   "outputs": [],
   "source": []
  }
 ],
 "metadata": {
  "kernelspec": {
   "display_name": "Python 3",
   "language": "python",
   "name": "python3"
  },
  "language_info": {
   "codemirror_mode": {
    "name": "ipython",
    "version": 3
   },
   "file_extension": ".py",
   "mimetype": "text/x-python",
   "name": "python",
   "nbconvert_exporter": "python",
   "pygments_lexer": "ipython3",
   "version": "3.8.5"
  }
 },
 "nbformat": 4,
 "nbformat_minor": 2
}
